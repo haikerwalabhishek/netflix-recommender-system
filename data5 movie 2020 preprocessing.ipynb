{
 "cells": [
  {
   "cell_type": "code",
   "execution_count": 1,
   "id": "3a90d3b8",
   "metadata": {},
   "outputs": [],
   "source": [
    "import pandas as pd\n",
    "import numpy as np"
   ]
  },
  {
   "cell_type": "code",
   "execution_count": 2,
   "id": "e71f3e6a",
   "metadata": {},
   "outputs": [],
   "source": [
    "link='https://en.wikipedia.org/wiki/List_of_American_films_of_2020'"
   ]
  },
  {
   "cell_type": "code",
   "execution_count": 3,
   "id": "0a91f6d1",
   "metadata": {},
   "outputs": [],
   "source": [
    "df1=pd.read_html(link,header=0)[2]\n",
    "df2=pd.read_html(link,header=0)[3]\n",
    "df3=pd.read_html(link,header=0)[4]\n",
    "df4=pd.read_html(link,header=0)[5]"
   ]
  },
  {
   "cell_type": "code",
   "execution_count": 4,
   "id": "5fec2b55",
   "metadata": {},
   "outputs": [
    {
     "name": "stderr",
     "output_type": "stream",
     "text": [
      "C:\\Users\\HP\\AppData\\Local\\Temp\\ipykernel_3272\\3617246550.py:1: FutureWarning: The frame.append method is deprecated and will be removed from pandas in a future version. Use pandas.concat instead.\n",
      "  df=df1.append(df2.append(df3.append(df4,ignore_index=True),ignore_index=True),ignore_index=True)\n"
     ]
    }
   ],
   "source": [
    "df=df1.append(df2.append(df3.append(df4,ignore_index=True),ignore_index=True),ignore_index=True)"
   ]
  },
  {
   "cell_type": "code",
   "execution_count": 5,
   "id": "b53ecdf6",
   "metadata": {},
   "outputs": [],
   "source": [
    "df=df.drop(['Opening','Opening.1','Production company','.mw-parser-output .tooltip-dotted{border-bottom:1px dotted;cursor:help}Ref.','Ref.'],axis=1)"
   ]
  },
  {
   "cell_type": "code",
   "execution_count": 6,
   "id": "a7392e53",
   "metadata": {},
   "outputs": [],
   "source": [
    "#director\n",
    "df['director_name']=df['Cast and crew'].str.split('(',expand=True)[0]"
   ]
  },
  {
   "cell_type": "code",
   "execution_count": 7,
   "id": "622676c3",
   "metadata": {},
   "outputs": [],
   "source": [
    "#actors\n",
    "df['actors']=df['Cast and crew'].str.split(';',expand=True)[1]\n",
    "df['actors1']=df['Cast and crew'].str.split(';',expand=True)[2]"
   ]
  },
  {
   "cell_type": "code",
   "execution_count": 8,
   "id": "8279de91",
   "metadata": {},
   "outputs": [],
   "source": [
    "df['actors1']=df['actors1'].fillna('Unknown')"
   ]
  },
  {
   "cell_type": "code",
   "execution_count": 9,
   "id": "b29543ee",
   "metadata": {},
   "outputs": [],
   "source": [
    "index=df[df['actors1']=='Unknown'].index"
   ]
  },
  {
   "cell_type": "code",
   "execution_count": 10,
   "id": "099413c8",
   "metadata": {},
   "outputs": [],
   "source": [
    "index=list(index)"
   ]
  },
  {
   "cell_type": "code",
   "execution_count": 11,
   "id": "ba52f2e1",
   "metadata": {},
   "outputs": [],
   "source": [
    "for i in index:\n",
    "    df['actors1'][i]=df['actors'][i]"
   ]
  },
  {
   "cell_type": "code",
   "execution_count": 12,
   "id": "392a3e14",
   "metadata": {},
   "outputs": [],
   "source": [
    "df=df.drop('actors',axis=1)"
   ]
  },
  {
   "cell_type": "code",
   "execution_count": 13,
   "id": "e2e3a59b",
   "metadata": {},
   "outputs": [],
   "source": [
    "df['actor_1_name']=df['actors1'].str.split(',',expand=True)[0]\n",
    "df['actor_2_name']=df['actors1'].str.split(',',expand=True)[1]\n",
    "df['actor_3_name']=df['actors1'].str.split(',',expand=True)[2]"
   ]
  },
  {
   "cell_type": "code",
   "execution_count": 14,
   "id": "7b765273",
   "metadata": {},
   "outputs": [],
   "source": [
    "df=df.drop(['actors1','Cast and crew'],axis=1)"
   ]
  },
  {
   "cell_type": "code",
   "execution_count": 15,
   "id": "af879c73",
   "metadata": {},
   "outputs": [],
   "source": [
    "df.rename(columns={'Title':'movie_title'},inplace=True)"
   ]
  },
  {
   "cell_type": "code",
   "execution_count": 16,
   "id": "02d2fb81",
   "metadata": {},
   "outputs": [
    {
     "data": {
      "text/html": [
       "<div>\n",
       "<style scoped>\n",
       "    .dataframe tbody tr th:only-of-type {\n",
       "        vertical-align: middle;\n",
       "    }\n",
       "\n",
       "    .dataframe tbody tr th {\n",
       "        vertical-align: top;\n",
       "    }\n",
       "\n",
       "    .dataframe thead th {\n",
       "        text-align: right;\n",
       "    }\n",
       "</style>\n",
       "<table border=\"1\" class=\"dataframe\">\n",
       "  <thead>\n",
       "    <tr style=\"text-align: right;\">\n",
       "      <th></th>\n",
       "      <th>movie_title</th>\n",
       "      <th>director_name</th>\n",
       "      <th>actor_1_name</th>\n",
       "      <th>actor_2_name</th>\n",
       "      <th>actor_3_name</th>\n",
       "    </tr>\n",
       "  </thead>\n",
       "  <tbody>\n",
       "    <tr>\n",
       "      <th>0</th>\n",
       "      <td>The Grudge</td>\n",
       "      <td>Nicolas Pesce</td>\n",
       "      <td>Andrea Riseborough</td>\n",
       "      <td>Demián Bichir</td>\n",
       "      <td>John Cho</td>\n",
       "    </tr>\n",
       "    <tr>\n",
       "      <th>1</th>\n",
       "      <td>Underwater</td>\n",
       "      <td>William Eubank</td>\n",
       "      <td>Kristen Stewart</td>\n",
       "      <td>Vincent Cassel</td>\n",
       "      <td>Jessica Henwick</td>\n",
       "    </tr>\n",
       "    <tr>\n",
       "      <th>2</th>\n",
       "      <td>Like a Boss</td>\n",
       "      <td>Miguel Arteta</td>\n",
       "      <td>Tiffany Haddish</td>\n",
       "      <td>Rose Byrne</td>\n",
       "      <td>Salma Hayek</td>\n",
       "    </tr>\n",
       "    <tr>\n",
       "      <th>3</th>\n",
       "      <td>Three Christs</td>\n",
       "      <td>Jon Avnet</td>\n",
       "      <td>Richard Gere</td>\n",
       "      <td>Peter Dinklage</td>\n",
       "      <td>Walton Goggins</td>\n",
       "    </tr>\n",
       "    <tr>\n",
       "      <th>4</th>\n",
       "      <td>Inherit the Viper</td>\n",
       "      <td>Anthony Jerjen</td>\n",
       "      <td>Josh Hartnett</td>\n",
       "      <td>Margarita Levieva</td>\n",
       "      <td>Chandler Riggs</td>\n",
       "    </tr>\n",
       "    <tr>\n",
       "      <th>...</th>\n",
       "      <td>...</td>\n",
       "      <td>...</td>\n",
       "      <td>...</td>\n",
       "      <td>...</td>\n",
       "      <td>...</td>\n",
       "    </tr>\n",
       "    <tr>\n",
       "      <th>270</th>\n",
       "      <td>We Can Be Heroes</td>\n",
       "      <td>Robert Rodriguez</td>\n",
       "      <td>Priyanka Chopra Jonas</td>\n",
       "      <td>Pedro Pascal</td>\n",
       "      <td>YaYa Gosselin</td>\n",
       "    </tr>\n",
       "    <tr>\n",
       "      <th>271</th>\n",
       "      <td>News of the World</td>\n",
       "      <td>Paul Greengrass</td>\n",
       "      <td>Tom Hanks</td>\n",
       "      <td>Helena Zengel</td>\n",
       "      <td>None</td>\n",
       "    </tr>\n",
       "    <tr>\n",
       "      <th>272</th>\n",
       "      <td>One Night in Miami...</td>\n",
       "      <td>Regina King</td>\n",
       "      <td>Kingsley Ben-Adir</td>\n",
       "      <td>Eli Goree</td>\n",
       "      <td>Aldis Hodge</td>\n",
       "    </tr>\n",
       "    <tr>\n",
       "      <th>273</th>\n",
       "      <td>Promising Young Woman</td>\n",
       "      <td>Emerald Fennell</td>\n",
       "      <td>Carey Mulligan</td>\n",
       "      <td>Bo Burnham</td>\n",
       "      <td>Alison Brie</td>\n",
       "    </tr>\n",
       "    <tr>\n",
       "      <th>274</th>\n",
       "      <td>Pieces of a Woman</td>\n",
       "      <td>Kornél Mundruczó</td>\n",
       "      <td>Vanessa Kirby</td>\n",
       "      <td>Shia LaBeouf</td>\n",
       "      <td>Molly Parker</td>\n",
       "    </tr>\n",
       "  </tbody>\n",
       "</table>\n",
       "<p>275 rows × 5 columns</p>\n",
       "</div>"
      ],
      "text/plain": [
       "               movie_title      director_name            actor_1_name  \\\n",
       "0               The Grudge     Nicolas Pesce       Andrea Riseborough   \n",
       "1               Underwater    William Eubank          Kristen Stewart   \n",
       "2              Like a Boss     Miguel Arteta          Tiffany Haddish   \n",
       "3            Three Christs         Jon Avnet             Richard Gere   \n",
       "4        Inherit the Viper    Anthony Jerjen            Josh Hartnett   \n",
       "..                     ...                ...                     ...   \n",
       "270       We Can Be Heroes  Robert Rodriguez    Priyanka Chopra Jonas   \n",
       "271      News of the World   Paul Greengrass                Tom Hanks   \n",
       "272  One Night in Miami...       Regina King        Kingsley Ben-Adir   \n",
       "273  Promising Young Woman   Emerald Fennell           Carey Mulligan   \n",
       "274      Pieces of a Woman  Kornél Mundruczó            Vanessa Kirby   \n",
       "\n",
       "           actor_2_name      actor_3_name  \n",
       "0         Demián Bichir          John Cho  \n",
       "1        Vincent Cassel   Jessica Henwick  \n",
       "2            Rose Byrne       Salma Hayek  \n",
       "3        Peter Dinklage    Walton Goggins  \n",
       "4     Margarita Levieva    Chandler Riggs  \n",
       "..                  ...               ...  \n",
       "270        Pedro Pascal     YaYa Gosselin  \n",
       "271       Helena Zengel              None  \n",
       "272           Eli Goree       Aldis Hodge  \n",
       "273          Bo Burnham       Alison Brie  \n",
       "274        Shia LaBeouf      Molly Parker  \n",
       "\n",
       "[275 rows x 5 columns]"
      ]
     },
     "execution_count": 16,
     "metadata": {},
     "output_type": "execute_result"
    }
   ],
   "source": [
    "df"
   ]
  },
  {
   "cell_type": "code",
   "execution_count": 31,
   "id": "31237135",
   "metadata": {},
   "outputs": [],
   "source": [
    "df=df[df['movie_title']!='No films had been released on this date as resulting the closure of theaters caused by the COVID-19 pandemic']"
   ]
  },
  {
   "cell_type": "code",
   "execution_count": 44,
   "id": "bcb56537",
   "metadata": {},
   "outputs": [
    {
     "data": {
      "text/html": [
       "<div>\n",
       "<style scoped>\n",
       "    .dataframe tbody tr th:only-of-type {\n",
       "        vertical-align: middle;\n",
       "    }\n",
       "\n",
       "    .dataframe tbody tr th {\n",
       "        vertical-align: top;\n",
       "    }\n",
       "\n",
       "    .dataframe thead th {\n",
       "        text-align: right;\n",
       "    }\n",
       "</style>\n",
       "<table border=\"1\" class=\"dataframe\">\n",
       "  <thead>\n",
       "    <tr style=\"text-align: right;\">\n",
       "      <th></th>\n",
       "      <th>movie_title</th>\n",
       "      <th>director_name</th>\n",
       "      <th>actor_1_name</th>\n",
       "      <th>actor_2_name</th>\n",
       "      <th>actor_3_name</th>\n",
       "    </tr>\n",
       "  </thead>\n",
       "  <tbody>\n",
       "  </tbody>\n",
       "</table>\n",
       "</div>"
      ],
      "text/plain": [
       "Empty DataFrame\n",
       "Columns: [movie_title, director_name, actor_1_name, actor_2_name, actor_3_name]\n",
       "Index: []"
      ]
     },
     "execution_count": 44,
     "metadata": {},
     "output_type": "execute_result"
    }
   ],
   "source": [
    "df[df['movie_title']=='The SpongeBob Movie: Sponge on the Run (Canadian theatrical release)']"
   ]
  },
  {
   "cell_type": "code",
   "execution_count": 43,
   "id": "07523513",
   "metadata": {},
   "outputs": [
    {
     "name": "stderr",
     "output_type": "stream",
     "text": [
      "C:\\Users\\HP\\AppData\\Local\\Temp\\ipykernel_3272\\3864763729.py:1: SettingWithCopyWarning: \n",
      "A value is trying to be set on a copy of a slice from a DataFrame.\n",
      "Try using .loc[row_indexer,col_indexer] = value instead\n",
      "\n",
      "See the caveats in the documentation: https://pandas.pydata.org/pandas-docs/stable/user_guide/indexing.html#returning-a-view-versus-a-copy\n",
      "  df['movie_title']=df['movie_title'].replace('The SpongeBob Movie: Sponge on the Run (Canadian theatrical release)','The SpongeBob Movie: Sponge on the Run')\n"
     ]
    }
   ],
   "source": [
    "df['movie_title']=df['movie_title'].replace('The SpongeBob Movie: Sponge on the Run (Canadian theatrical release)','The SpongeBob Movie: Sponge on the Run')"
   ]
  },
  {
   "cell_type": "code",
   "execution_count": 45,
   "id": "c663c552",
   "metadata": {},
   "outputs": [],
   "source": [
    "#genre\n",
    "from tmdbv3api import TMDb\n",
    "import requests\n",
    "import json\n",
    "from tmdbv3api import Movie\n",
    "tmdb=TMDb()\n",
    "tmdb.api_key='e770358dbe349592b1fba6cb607230fb'"
   ]
  },
  {
   "cell_type": "code",
   "execution_count": 46,
   "id": "5a05479e",
   "metadata": {},
   "outputs": [],
   "source": [
    "from tmdbv3api import Movie\n",
    "tmdb_movie=Movie()\n",
    "def get_genre(x):\n",
    "    genres=[]\n",
    "    result=tmdb_movie.search(x)\n",
    "    movie_id=result[0].id\n",
    "    response=requests.get('https://api.themoviedb.org/3/movie/{}?api_key={}'.format(movie_id,tmdb.api_key))\n",
    "    data_json=response.json()\n",
    "    if data_json['genres']:\n",
    "        genre_str=' '\n",
    "        for i in range(0,len(data_json['genres'])):\n",
    "            genres.append(data_json['genres'][i]['name'])\n",
    "            return genre_str.join(genres)\n",
    "        else:\n",
    "            np.NaN"
   ]
  },
  {
   "cell_type": "code",
   "execution_count": 47,
   "id": "7402faa7",
   "metadata": {},
   "outputs": [
    {
     "name": "stderr",
     "output_type": "stream",
     "text": [
      "C:\\Users\\HP\\AppData\\Local\\Temp\\ipykernel_3272\\473933908.py:1: SettingWithCopyWarning: \n",
      "A value is trying to be set on a copy of a slice from a DataFrame.\n",
      "Try using .loc[row_indexer,col_indexer] = value instead\n",
      "\n",
      "See the caveats in the documentation: https://pandas.pydata.org/pandas-docs/stable/user_guide/indexing.html#returning-a-view-versus-a-copy\n",
      "  df['genres']=df['movie_title'].map(lambda x:get_genre(str(x)))\n"
     ]
    }
   ],
   "source": [
    "df['genres']=df['movie_title'].map(lambda x:get_genre(str(x)))"
   ]
  },
  {
   "cell_type": "code",
   "execution_count": 49,
   "id": "6bbb45a8",
   "metadata": {},
   "outputs": [],
   "source": [
    "df=df[['movie_title','genres','director_name','actor_1_name','actor_2_name','actor_3_name']]"
   ]
  },
  {
   "cell_type": "code",
   "execution_count": 51,
   "id": "893eef37",
   "metadata": {},
   "outputs": [],
   "source": [
    "df['movie_title']=df['movie_title'].str.lower()"
   ]
  },
  {
   "cell_type": "code",
   "execution_count": 52,
   "id": "f0d625f5",
   "metadata": {},
   "outputs": [
    {
     "data": {
      "text/html": [
       "<div>\n",
       "<style scoped>\n",
       "    .dataframe tbody tr th:only-of-type {\n",
       "        vertical-align: middle;\n",
       "    }\n",
       "\n",
       "    .dataframe tbody tr th {\n",
       "        vertical-align: top;\n",
       "    }\n",
       "\n",
       "    .dataframe thead th {\n",
       "        text-align: right;\n",
       "    }\n",
       "</style>\n",
       "<table border=\"1\" class=\"dataframe\">\n",
       "  <thead>\n",
       "    <tr style=\"text-align: right;\">\n",
       "      <th></th>\n",
       "      <th>movie_title</th>\n",
       "      <th>genres</th>\n",
       "      <th>director_name</th>\n",
       "      <th>actor_1_name</th>\n",
       "      <th>actor_2_name</th>\n",
       "      <th>actor_3_name</th>\n",
       "    </tr>\n",
       "  </thead>\n",
       "  <tbody>\n",
       "    <tr>\n",
       "      <th>0</th>\n",
       "      <td>the grudge</td>\n",
       "      <td>Horror</td>\n",
       "      <td>Nicolas Pesce</td>\n",
       "      <td>Andrea Riseborough</td>\n",
       "      <td>Demián Bichir</td>\n",
       "      <td>John Cho</td>\n",
       "    </tr>\n",
       "    <tr>\n",
       "      <th>1</th>\n",
       "      <td>underwater</td>\n",
       "      <td>Action</td>\n",
       "      <td>William Eubank</td>\n",
       "      <td>Kristen Stewart</td>\n",
       "      <td>Vincent Cassel</td>\n",
       "      <td>Jessica Henwick</td>\n",
       "    </tr>\n",
       "    <tr>\n",
       "      <th>2</th>\n",
       "      <td>like a boss</td>\n",
       "      <td>Comedy</td>\n",
       "      <td>Miguel Arteta</td>\n",
       "      <td>Tiffany Haddish</td>\n",
       "      <td>Rose Byrne</td>\n",
       "      <td>Salma Hayek</td>\n",
       "    </tr>\n",
       "    <tr>\n",
       "      <th>3</th>\n",
       "      <td>three christs</td>\n",
       "      <td>Drama</td>\n",
       "      <td>Jon Avnet</td>\n",
       "      <td>Richard Gere</td>\n",
       "      <td>Peter Dinklage</td>\n",
       "      <td>Walton Goggins</td>\n",
       "    </tr>\n",
       "    <tr>\n",
       "      <th>4</th>\n",
       "      <td>inherit the viper</td>\n",
       "      <td>Crime</td>\n",
       "      <td>Anthony Jerjen</td>\n",
       "      <td>Josh Hartnett</td>\n",
       "      <td>Margarita Levieva</td>\n",
       "      <td>Chandler Riggs</td>\n",
       "    </tr>\n",
       "  </tbody>\n",
       "</table>\n",
       "</div>"
      ],
      "text/plain": [
       "         movie_title  genres    director_name         actor_1_name  \\\n",
       "0         the grudge  Horror   Nicolas Pesce    Andrea Riseborough   \n",
       "1         underwater  Action  William Eubank       Kristen Stewart   \n",
       "2        like a boss  Comedy   Miguel Arteta       Tiffany Haddish   \n",
       "3      three christs   Drama       Jon Avnet          Richard Gere   \n",
       "4  inherit the viper   Crime  Anthony Jerjen         Josh Hartnett   \n",
       "\n",
       "         actor_2_name      actor_3_name  \n",
       "0       Demián Bichir          John Cho  \n",
       "1      Vincent Cassel   Jessica Henwick  \n",
       "2          Rose Byrne       Salma Hayek  \n",
       "3      Peter Dinklage    Walton Goggins  \n",
       "4   Margarita Levieva    Chandler Riggs  "
      ]
     },
     "execution_count": 52,
     "metadata": {},
     "output_type": "execute_result"
    }
   ],
   "source": [
    "df.head()"
   ]
  },
  {
   "cell_type": "code",
   "execution_count": 53,
   "id": "80a2a8bc",
   "metadata": {},
   "outputs": [
    {
     "data": {
      "text/plain": [
       "movie_title       0\n",
       "genres            1\n",
       "director_name     0\n",
       "actor_1_name      2\n",
       "actor_2_name      6\n",
       "actor_3_name     27\n",
       "dtype: int64"
      ]
     },
     "execution_count": 53,
     "metadata": {},
     "output_type": "execute_result"
    }
   ],
   "source": [
    "df.isna().sum()"
   ]
  },
  {
   "cell_type": "code",
   "execution_count": 54,
   "id": "f4030c2c",
   "metadata": {},
   "outputs": [],
   "source": [
    "df.fillna('Unknown',inplace=True)"
   ]
  },
  {
   "cell_type": "code",
   "execution_count": 55,
   "id": "2378e11c",
   "metadata": {},
   "outputs": [
    {
     "data": {
      "text/plain": [
       "movie_title      0\n",
       "genres           0\n",
       "director_name    0\n",
       "actor_1_name     0\n",
       "actor_2_name     0\n",
       "actor_3_name     0\n",
       "dtype: int64"
      ]
     },
     "execution_count": 55,
     "metadata": {},
     "output_type": "execute_result"
    }
   ],
   "source": [
    "df.isnull().sum()"
   ]
  },
  {
   "cell_type": "code",
   "execution_count": 56,
   "id": "5149b30f",
   "metadata": {},
   "outputs": [],
   "source": [
    "df['comb']=df['actor_1_name']+' '+df['actor_2_name']+' '+df['actor_3_name']+' '+df['director_name']+' '+df['genres']"
   ]
  },
  {
   "cell_type": "code",
   "execution_count": 57,
   "id": "dfc262ff",
   "metadata": {},
   "outputs": [
    {
     "data": {
      "text/html": [
       "<div>\n",
       "<style scoped>\n",
       "    .dataframe tbody tr th:only-of-type {\n",
       "        vertical-align: middle;\n",
       "    }\n",
       "\n",
       "    .dataframe tbody tr th {\n",
       "        vertical-align: top;\n",
       "    }\n",
       "\n",
       "    .dataframe thead th {\n",
       "        text-align: right;\n",
       "    }\n",
       "</style>\n",
       "<table border=\"1\" class=\"dataframe\">\n",
       "  <thead>\n",
       "    <tr style=\"text-align: right;\">\n",
       "      <th></th>\n",
       "      <th>movie_title</th>\n",
       "      <th>genres</th>\n",
       "      <th>director_name</th>\n",
       "      <th>actor_1_name</th>\n",
       "      <th>actor_2_name</th>\n",
       "      <th>actor_3_name</th>\n",
       "      <th>comb</th>\n",
       "    </tr>\n",
       "  </thead>\n",
       "  <tbody>\n",
       "    <tr>\n",
       "      <th>0</th>\n",
       "      <td>the grudge</td>\n",
       "      <td>Horror</td>\n",
       "      <td>Nicolas Pesce</td>\n",
       "      <td>Andrea Riseborough</td>\n",
       "      <td>Demián Bichir</td>\n",
       "      <td>John Cho</td>\n",
       "      <td>Andrea Riseborough  Demián Bichir  John Cho N...</td>\n",
       "    </tr>\n",
       "    <tr>\n",
       "      <th>1</th>\n",
       "      <td>underwater</td>\n",
       "      <td>Action</td>\n",
       "      <td>William Eubank</td>\n",
       "      <td>Kristen Stewart</td>\n",
       "      <td>Vincent Cassel</td>\n",
       "      <td>Jessica Henwick</td>\n",
       "      <td>Kristen Stewart  Vincent Cassel  Jessica Henw...</td>\n",
       "    </tr>\n",
       "    <tr>\n",
       "      <th>2</th>\n",
       "      <td>like a boss</td>\n",
       "      <td>Comedy</td>\n",
       "      <td>Miguel Arteta</td>\n",
       "      <td>Tiffany Haddish</td>\n",
       "      <td>Rose Byrne</td>\n",
       "      <td>Salma Hayek</td>\n",
       "      <td>Tiffany Haddish  Rose Byrne  Salma Hayek Migu...</td>\n",
       "    </tr>\n",
       "    <tr>\n",
       "      <th>3</th>\n",
       "      <td>three christs</td>\n",
       "      <td>Drama</td>\n",
       "      <td>Jon Avnet</td>\n",
       "      <td>Richard Gere</td>\n",
       "      <td>Peter Dinklage</td>\n",
       "      <td>Walton Goggins</td>\n",
       "      <td>Richard Gere  Peter Dinklage  Walton Goggins ...</td>\n",
       "    </tr>\n",
       "    <tr>\n",
       "      <th>4</th>\n",
       "      <td>inherit the viper</td>\n",
       "      <td>Crime</td>\n",
       "      <td>Anthony Jerjen</td>\n",
       "      <td>Josh Hartnett</td>\n",
       "      <td>Margarita Levieva</td>\n",
       "      <td>Chandler Riggs</td>\n",
       "      <td>Josh Hartnett  Margarita Levieva  Chandler Ri...</td>\n",
       "    </tr>\n",
       "    <tr>\n",
       "      <th>...</th>\n",
       "      <td>...</td>\n",
       "      <td>...</td>\n",
       "      <td>...</td>\n",
       "      <td>...</td>\n",
       "      <td>...</td>\n",
       "      <td>...</td>\n",
       "      <td>...</td>\n",
       "    </tr>\n",
       "    <tr>\n",
       "      <th>270</th>\n",
       "      <td>we can be heroes</td>\n",
       "      <td>Action</td>\n",
       "      <td>Robert Rodriguez</td>\n",
       "      <td>Priyanka Chopra Jonas</td>\n",
       "      <td>Pedro Pascal</td>\n",
       "      <td>YaYa Gosselin</td>\n",
       "      <td>Priyanka Chopra Jonas  Pedro Pascal  YaYa Gos...</td>\n",
       "    </tr>\n",
       "    <tr>\n",
       "      <th>271</th>\n",
       "      <td>news of the world</td>\n",
       "      <td>Drama</td>\n",
       "      <td>Paul Greengrass</td>\n",
       "      <td>Tom Hanks</td>\n",
       "      <td>Helena Zengel</td>\n",
       "      <td>Unknown</td>\n",
       "      <td>Tom Hanks  Helena Zengel Unknown Paul Greengr...</td>\n",
       "    </tr>\n",
       "    <tr>\n",
       "      <th>272</th>\n",
       "      <td>one night in miami...</td>\n",
       "      <td>Drama</td>\n",
       "      <td>Regina King</td>\n",
       "      <td>Kingsley Ben-Adir</td>\n",
       "      <td>Eli Goree</td>\n",
       "      <td>Aldis Hodge</td>\n",
       "      <td>Kingsley Ben-Adir  Eli Goree  Aldis Hodge Reg...</td>\n",
       "    </tr>\n",
       "    <tr>\n",
       "      <th>273</th>\n",
       "      <td>promising young woman</td>\n",
       "      <td>Thriller</td>\n",
       "      <td>Emerald Fennell</td>\n",
       "      <td>Carey Mulligan</td>\n",
       "      <td>Bo Burnham</td>\n",
       "      <td>Alison Brie</td>\n",
       "      <td>Carey Mulligan  Bo Burnham  Alison Brie Emera...</td>\n",
       "    </tr>\n",
       "    <tr>\n",
       "      <th>274</th>\n",
       "      <td>pieces of a woman</td>\n",
       "      <td>Drama</td>\n",
       "      <td>Kornél Mundruczó</td>\n",
       "      <td>Vanessa Kirby</td>\n",
       "      <td>Shia LaBeouf</td>\n",
       "      <td>Molly Parker</td>\n",
       "      <td>Vanessa Kirby  Shia LaBeouf  Molly Parker Kor...</td>\n",
       "    </tr>\n",
       "  </tbody>\n",
       "</table>\n",
       "<p>274 rows × 7 columns</p>\n",
       "</div>"
      ],
      "text/plain": [
       "               movie_title    genres      director_name  \\\n",
       "0               the grudge    Horror     Nicolas Pesce    \n",
       "1               underwater    Action    William Eubank    \n",
       "2              like a boss    Comedy     Miguel Arteta    \n",
       "3            three christs     Drama         Jon Avnet    \n",
       "4        inherit the viper     Crime    Anthony Jerjen    \n",
       "..                     ...       ...                ...   \n",
       "270       we can be heroes    Action  Robert Rodriguez    \n",
       "271      news of the world     Drama   Paul Greengrass    \n",
       "272  one night in miami...     Drama       Regina King    \n",
       "273  promising young woman  Thriller   Emerald Fennell    \n",
       "274      pieces of a woman     Drama  Kornél Mundruczó    \n",
       "\n",
       "               actor_1_name        actor_2_name      actor_3_name  \\\n",
       "0        Andrea Riseborough       Demián Bichir          John Cho   \n",
       "1           Kristen Stewart      Vincent Cassel   Jessica Henwick   \n",
       "2           Tiffany Haddish          Rose Byrne       Salma Hayek   \n",
       "3              Richard Gere      Peter Dinklage    Walton Goggins   \n",
       "4             Josh Hartnett   Margarita Levieva    Chandler Riggs   \n",
       "..                      ...                 ...               ...   \n",
       "270   Priyanka Chopra Jonas        Pedro Pascal     YaYa Gosselin   \n",
       "271               Tom Hanks       Helena Zengel           Unknown   \n",
       "272       Kingsley Ben-Adir           Eli Goree       Aldis Hodge   \n",
       "273          Carey Mulligan          Bo Burnham       Alison Brie   \n",
       "274           Vanessa Kirby        Shia LaBeouf      Molly Parker   \n",
       "\n",
       "                                                  comb  \n",
       "0     Andrea Riseborough  Demián Bichir  John Cho N...  \n",
       "1     Kristen Stewart  Vincent Cassel  Jessica Henw...  \n",
       "2     Tiffany Haddish  Rose Byrne  Salma Hayek Migu...  \n",
       "3     Richard Gere  Peter Dinklage  Walton Goggins ...  \n",
       "4     Josh Hartnett  Margarita Levieva  Chandler Ri...  \n",
       "..                                                 ...  \n",
       "270   Priyanka Chopra Jonas  Pedro Pascal  YaYa Gos...  \n",
       "271   Tom Hanks  Helena Zengel Unknown Paul Greengr...  \n",
       "272   Kingsley Ben-Adir  Eli Goree  Aldis Hodge Reg...  \n",
       "273   Carey Mulligan  Bo Burnham  Alison Brie Emera...  \n",
       "274   Vanessa Kirby  Shia LaBeouf  Molly Parker Kor...  \n",
       "\n",
       "[274 rows x 7 columns]"
      ]
     },
     "execution_count": 57,
     "metadata": {},
     "output_type": "execute_result"
    }
   ],
   "source": [
    "df"
   ]
  },
  {
   "cell_type": "code",
   "execution_count": 58,
   "id": "6567126c",
   "metadata": {},
   "outputs": [],
   "source": [
    "data=pd.read_csv('movie_data.csv')"
   ]
  },
  {
   "cell_type": "code",
   "execution_count": 59,
   "id": "86c36d02",
   "metadata": {},
   "outputs": [
    {
     "data": {
      "text/plain": [
       "(5882, 8)"
      ]
     },
     "execution_count": 59,
     "metadata": {},
     "output_type": "execute_result"
    }
   ],
   "source": [
    "data.shape"
   ]
  },
  {
   "cell_type": "code",
   "execution_count": 60,
   "id": "b1f15f81",
   "metadata": {},
   "outputs": [
    {
     "name": "stderr",
     "output_type": "stream",
     "text": [
      "C:\\Users\\HP\\AppData\\Local\\Temp\\ipykernel_3272\\1484680574.py:1: FutureWarning: The frame.append method is deprecated and will be removed from pandas in a future version. Use pandas.concat instead.\n",
      "  data=data.append(df,ignore_index=True)\n"
     ]
    }
   ],
   "source": [
    "data=data.append(df,ignore_index=True)"
   ]
  },
  {
   "cell_type": "code",
   "execution_count": 62,
   "id": "f9aba6b5",
   "metadata": {},
   "outputs": [],
   "source": [
    "data=data.drop('Unnamed: 0',axis=1)"
   ]
  },
  {
   "cell_type": "code",
   "execution_count": 64,
   "id": "cde0f8dc",
   "metadata": {},
   "outputs": [],
   "source": [
    "data.to_csv('movie_data.csv')"
   ]
  },
  {
   "cell_type": "code",
   "execution_count": 65,
   "id": "98bb0824",
   "metadata": {},
   "outputs": [
    {
     "data": {
      "text/plain": [
       "(6156, 7)"
      ]
     },
     "execution_count": 65,
     "metadata": {},
     "output_type": "execute_result"
    }
   ],
   "source": [
    "data.shape"
   ]
  },
  {
   "cell_type": "code",
   "execution_count": null,
   "id": "f7be4608",
   "metadata": {},
   "outputs": [],
   "source": []
  }
 ],
 "metadata": {
  "kernelspec": {
   "display_name": "Python 3 (ipykernel)",
   "language": "python",
   "name": "python3"
  },
  "language_info": {
   "codemirror_mode": {
    "name": "ipython",
    "version": 3
   },
   "file_extension": ".py",
   "mimetype": "text/x-python",
   "name": "python",
   "nbconvert_exporter": "python",
   "pygments_lexer": "ipython3",
   "version": "3.9.12"
  }
 },
 "nbformat": 4,
 "nbformat_minor": 5
}
